{
 "cells": [
  {
   "cell_type": "code",
   "execution_count": 1,
   "id": "e7591a7d",
   "metadata": {},
   "outputs": [],
   "source": [
    "import numpy as np\n",
    "import cv2 as cv\n",
    "import matplotlib.pyplot as plt"
   ]
  },
  {
   "cell_type": "markdown",
   "id": "71c6a2db",
   "metadata": {},
   "source": [
    "# Q1\n",
    "Apply histogram equalization on a histogram equalized image. In other words, apply histogram equalization twice on an image. Is there any difference between the first and second output image? You are free to use any image."
   ]
  },
  {
   "cell_type": "code",
   "execution_count": 2,
   "id": "ffa20288",
   "metadata": {},
   "outputs": [],
   "source": [
    "img = cv.imread('winter.jfif', 0)\n",
    "\n",
    "eq = cv.equalizeHist(img)\n",
    "\n",
    "eq1 = cv.equalizeHist(eq)\n",
    "\n",
    "cv.imshow('image', np.hstack((eq, eq1)))\n",
    "cv.waitKey(0)\n",
    "cv.destroyAllWindows()"
   ]
  },
  {
   "cell_type": "markdown",
   "id": "1a357388",
   "metadata": {},
   "source": [
    "There seems to be no difference in both images "
   ]
  },
  {
   "cell_type": "markdown",
   "id": "92ae7170",
   "metadata": {},
   "source": [
    "# Q2\n",
    "Load the image 'electronic.jfif'. Then,\n",
    "* Experiment with different kernel size. Which kernel size is the most appropriate?\n",
    "* Perform edge detection using Sobel operator (combined both x and y) with and without image smoothing (Gaussian blurring). Display the 2 images.\n",
    "* Try Laplacian of Gaussian\n",
    "\n",
    "Based on the exercise conducted from (A) - (C), which image processing pathway is optimal? Justify your answer."
   ]
  },
  {
   "cell_type": "code",
   "execution_count": 3,
   "id": "29b5b453",
   "metadata": {},
   "outputs": [],
   "source": [
    "img = cv.imread('electronic.jfif', 0)\n",
    "\n",
    "# with smoothing\n",
    "blur = cv.GaussianBlur(img, (5, 5), 0)\n",
    "sobelx = cv.Sobel(blur, cv.CV_64F, 1, 0, ksize = 3)\n",
    "sobely = cv.Sobel(blur, cv.CV_64F, 0, 1, ksize = 3)\n",
    "\n",
    "grad_mag_L2 = cv.magnitude(sobelx, sobely)\n",
    "grad_mag_L2 = cv.convertScaleAbs(grad_mag_L2)\n",
    "\n",
    "# without smoothing\n",
    "sobelx2 = cv.Sobel(img, cv.CV_64F, 1, 0, ksize = 3)\n",
    "sobely2 = cv.Sobel(img, cv.CV_64F, 0, 1, ksize = 3)\n",
    "\n",
    "grad_mag_L22 = cv.magnitude(sobelx2, sobely2)\n",
    "grad_mag_L22 = cv.convertScaleAbs(grad_mag_L22)\n",
    "\n",
    "# laplacian\n",
    "laplacian = cv.Laplacian(blur, cv.CV_64F, ksize = 3)\n",
    "\n",
    "laplacian_8u = cv.convertScaleAbs(laplacian)\n",
    "\n",
    "cv.imshow('img', np.hstack((grad_mag_L2, grad_mag_L22, laplacian_8u)))\n",
    "\n",
    "cv.waitKey(0)\n",
    "cv.destroyAllWindows()"
   ]
  },
  {
   "cell_type": "markdown",
   "id": "68eb3f26",
   "metadata": {},
   "source": [
    "The kernel_size of 3 is the most appropriate. Kernel_size of 1 could work as well but the color of the edge lines are too light.    \n",
    "The method of performing smoothing and then using sobel is the most optimal pathway as the edges detected is the most precise and clear. Smoothing blurs the imgae to remove noise and small edges that is unimportant so that it will not be detected during edge detection."
   ]
  },
  {
   "cell_type": "markdown",
   "id": "ebf4508b",
   "metadata": {},
   "source": [
    "# Q3\n",
    "Experiment with different edge detectors: Sobel, Laplacian, Prewitt, Scharr derivatives and Canny operators (all with aperture size of 3) on image named 'pineapple.jfif'. Comment on the results."
   ]
  },
  {
   "cell_type": "code",
   "execution_count": 4,
   "id": "9936bdc9",
   "metadata": {},
   "outputs": [],
   "source": [
    "img = cv.imread('pineapple.jfif', 0)\n",
    "\n",
    "# Sobel\n",
    "blur = cv.GaussianBlur(img, (5, 5), 0)\n",
    "sobelx = cv.Sobel(blur, cv.CV_64F, 1, 0, ksize = 3)\n",
    "sobely = cv.Sobel(blur, cv.CV_64F, 0, 1, ksize = 3)\n",
    "\n",
    "grad_mag_L2 = cv.magnitude(sobelx, sobely)\n",
    "grad_mag_L2 = cv.convertScaleAbs(grad_mag_L2)\n",
    "\n",
    "# Laplacian \n",
    "laplacian = cv.Laplacian(blur, cv.CV_64F, ksize = 3)\n",
    "laplacian_8u = cv.convertScaleAbs(laplacian)\n",
    "\n",
    "# Prewitt\n",
    "kernelx = np.array([[1,1,1],[0,0,0],[-1,-1,-1]])\n",
    "kernely = np.array([[-1,0,1],[-1,0,1],[-1,0,1]])\n",
    "prewittx = cv.filter2D(blur, -1, kernelx)\n",
    "prewitty = cv.filter2D(blur, -1, kernely)\n",
    "\n",
    "# Scharr\n",
    "scharrx = cv.Scharr(blur, cv.CV_64F, 1, 0)\n",
    "scharry = cv.Scharr(blur, cv.CV_64F, 0, 1)\n",
    "\n",
    "grad_mag_L2_scharr = cv.magnitude(scharrx, scharry)//4\n",
    "grad_mag_L2_scharr = cv.convertScaleAbs(grad_mag_L2_scharr)\n",
    "\n",
    "# Canny\n",
    "output_canny = cv.Canny(blur, 50, 100, 3)\n",
    "\n",
    "cv.imshow('results', np.hstack((grad_mag_L2, laplacian_8u, prewittx + prewitty, grad_mag_L2_scharr, output_canny)))\n",
    "cv.waitKey(0)\n",
    "cv.destroyAllWindows()"
   ]
  },
  {
   "cell_type": "markdown",
   "id": "0525f153",
   "metadata": {},
   "source": [
    "* The image showed by sobel method can be seen as a standard baseline for the edge detection.      \n",
    "* The image showed by laplacian method seems to be underwhelming since it detects much lesser edges when compared to sobel.     \n",
    "* The image showed by prewitt method has quite similar results to laplacian but the lines of the edges are blurry.\n",
    "* The image showed by scharr method can detect the edges in the image pretty well, it is devided by 4 to reduce the thickness of the lines drawn at the edges. The have achieved similar results with sobel method.     \n",
    "* The image showed by canny method is the most clear and easy to recognize, the edges are outlines very well."
   ]
  },
  {
   "cell_type": "markdown",
   "id": "f96efce5",
   "metadata": {},
   "source": [
    "# Q4\n",
    "Write a program to identify the white object (probably laptop) present in the image 'electronic.jfif'. Draw bounding boxes on the objects."
   ]
  },
  {
   "cell_type": "code",
   "execution_count": 5,
   "id": "fe43ede2",
   "metadata": {},
   "outputs": [],
   "source": [
    "img = cv.imread('electronic.jfif', 0)\n",
    "bfilter = cv.bilateralFilter(img, 10, 75, 75)\n",
    "\n",
    "_, th = cv.threshold(bfilter, 200, 255, cv.THRESH_BINARY)\n",
    "\n",
    "contour, hierarchy = cv.findContours(th, cv.RETR_TREE, cv.CHAIN_APPROX_SIMPLE)\n",
    "\n",
    "img_bgr = cv.cvtColor(img, cv.COLOR_GRAY2BGR)\n",
    "\n",
    "for i in range(len(contour)):\n",
    "    cnt = contour[i]\n",
    "    x, y, w, h = cv.boundingRect(cnt)\n",
    "    cv.rectangle(img_bgr, (x,y), (x+w, y+h), (0, 255, 0), 2)\n",
    "\n",
    "cv.imshow('contour', img_bgr)\n",
    "cv.waitKey(0)\n",
    "cv.destroyAllWindows()"
   ]
  }
 ],
 "metadata": {
  "kernelspec": {
   "display_name": "Python 3 (ipykernel)",
   "language": "python",
   "name": "python3"
  },
  "language_info": {
   "codemirror_mode": {
    "name": "ipython",
    "version": 3
   },
   "file_extension": ".py",
   "mimetype": "text/x-python",
   "name": "python",
   "nbconvert_exporter": "python",
   "pygments_lexer": "ipython3",
   "version": "3.10.5"
  }
 },
 "nbformat": 4,
 "nbformat_minor": 5
}
