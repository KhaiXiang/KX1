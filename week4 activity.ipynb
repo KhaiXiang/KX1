{
 "cells": [
  {
   "cell_type": "code",
   "execution_count": 1,
   "id": "a645bc58",
   "metadata": {},
   "outputs": [
    {
     "data": {
      "text/plain": [
       "True"
      ]
     },
     "execution_count": 1,
     "metadata": {},
     "output_type": "execute_result"
    }
   ],
   "source": [
    "import sys\n",
    "# Python 3.7 is required\n",
    "assert sys.version_info >= (3,7)\n",
    "\n",
    "import cv2 as cv\n",
    "import numpy as np\n",
    "\n",
    "# For reproducibility,\n",
    "np.random.seed(99)\n",
    "\n",
    "# Make sure that optimization is enabled\n",
    "if not cv.useOptimized():\n",
    "    cv.setUseOptimized(True)\n",
    "\n",
    "cv.useOptimized()"
   ]
  },
  {
   "cell_type": "markdown",
   "id": "8b1cbae6",
   "metadata": {},
   "source": [
    "# Activity 1\n",
    "Suggest two ways and write codes to display two images simultaneously. You can use any image snapped from your handphone, downloaded from internet or images from week 4 materials on MS teams. The two images are a color image and its corresponding grayscale image."
   ]
  },
  {
   "cell_type": "code",
   "execution_count": 34,
   "id": "29da4106",
   "metadata": {},
   "outputs": [],
   "source": [
    "original = cv.imread('dog.jfif')\n",
    "gray = cv.cvtColor(original, cv.COLOR_BGR2GRAY)\n",
    "\n",
    "cv.imshow('original', original)\n",
    "cv.imshow('gray', gray)\n",
    "\n",
    "cv.waitKey(0)\n",
    "cv.destroyAllWindows()"
   ]
  },
  {
   "cell_type": "code",
   "execution_count": 35,
   "id": "ae23d8bb",
   "metadata": {},
   "outputs": [],
   "source": [
    "original = cv.imread('dog.jfif')\n",
    "\n",
    "#convert to grayscale\n",
    "gray = cv.cvtColor(original, cv.COLOR_BGR2GRAY)\n",
    "\n",
    "#convert to 3 channels for combination\n",
    "gray3 = cv.cvtColor(gray, cv.COLOR_GRAY2BGR)\n",
    "\n",
    "#combine\n",
    "vertical = np.vstack((original, gray3))\n",
    "\n",
    "cv.imshow('2 image', vertical)\n",
    "\n",
    "cv.waitKey(0)\n",
    "cv.destroyAllWindows()"
   ]
  },
  {
   "cell_type": "markdown",
   "id": "ef1e7623",
   "metadata": {},
   "source": [
    "# Activity 2\n",
    "\n",
    "Write codes that performs the following:\n",
    "\n",
    "Load the video “img_pexels.mp4” into the Python environment, resize it and display the videos with smaller frames (The frames can be of any size, as long as it is smaller). You can specify an arbitrary frame rate.\n",
    "\n",
    "Save it as a separate files: “smaller_img_pexels.avi” or \"smaller_img_pexels.mp4\""
   ]
  },
  {
   "cell_type": "code",
   "execution_count": 113,
   "id": "6ddb9291",
   "metadata": {},
   "outputs": [],
   "source": [
    "import cv2 as cv\n",
    "cap = cv.VideoCapture('img_pexels.mp4')\n",
    "\n",
    "if not cap.isOpened():\n",
    "    print(\"Unable to create video\")\n",
    "\n",
    "while cap.isOpened():\n",
    "    ret, frame = cap.read()\n",
    "    \n",
    "    if not ret:\n",
    "        print(\"Can't receive frame.\")\n",
    "        break\n",
    "        \n",
    "    frame_resize = cv.resize(frame, None, fx = 0.4, fy = 0.4, interpolation = cv.INTER_LINEAR)   \n",
    "    \n",
    "    cv.imshow('smaller', frame_resize)\n",
    "    \n",
    "    if cv.waitKey(1) & 0xFF == 27: # Press esc to stop\n",
    "        break\n",
    "\n",
    "cap.release()\n",
    "cv.destroyAllWindows()"
   ]
  },
  {
   "cell_type": "code",
   "execution_count": null,
   "id": "96a76fc4",
   "metadata": {},
   "outputs": [],
   "source": [
    "cap = cv.VideoCapture('img_pexels.mp4')\n",
    "\n",
    "width = int((cap.get(3))*0.4)\n",
    "height = int((cap.get(4))*0.4)\n",
    "\n",
    "fourcc = cv.VideoWriter_fourcc(*'MP4V')\n",
    "fps = 60\n",
    "out = cv.VideoWriter('smaller_img_pexels.mp4', fourcc, fps, (width, height))\n",
    "\n",
    "while cap.isOpened():\n",
    "    ret, frame = cap.read()\n",
    "    if not ret:\n",
    "        print(\"Can't receive frame (streaming end)\")\n",
    "        break\n",
    "\n",
    "    frame_resize = cv.resize(frame, None, fx = 0.4, fy = 0.4, interpolation = cv.INTER_LINEAR)\n",
    "    \n",
    "    out.write(frame_resize)\n",
    "    \n",
    "    if cv.waitKey(1) & 0xFF == 27:\n",
    "        break\n",
    "\n",
    "cap.release()\n",
    "out.release()\n",
    "cv.destroyAllWindows()"
   ]
  },
  {
   "cell_type": "markdown",
   "id": "a4f125db",
   "metadata": {},
   "source": [
    "# Activity 3\n",
    "Create a random noise color and grayscale image. You can set a custom width and height. \n",
    "(Hint: use Numpy functions like np.array and np.reshape.)"
   ]
  },
  {
   "cell_type": "code",
   "execution_count": 112,
   "id": "31d00690",
   "metadata": {
    "scrolled": true
   },
   "outputs": [],
   "source": [
    "color_img = np.random.randint(0, 255, size=(500, 500, 3), dtype=np.uint8)\n",
    "gray_img = cv.cvtColor(color_img, cv.COLOR_BGR2GRAY)\n",
    "\n",
    "cv.imshow('image', color_img)\n",
    "cv.imshow('grayscale', gray_img)\n",
    "\n",
    "cv.waitKey(0)\n",
    "cv.destroyAllWindows()"
   ]
  }
 ],
 "metadata": {
  "kernelspec": {
   "display_name": "Python 3 (ipykernel)",
   "language": "python",
   "name": "python3"
  },
  "language_info": {
   "codemirror_mode": {
    "name": "ipython",
    "version": 3
   },
   "file_extension": ".py",
   "mimetype": "text/x-python",
   "name": "python",
   "nbconvert_exporter": "python",
   "pygments_lexer": "ipython3",
   "version": "3.10.5"
  }
 },
 "nbformat": 4,
 "nbformat_minor": 5
}
